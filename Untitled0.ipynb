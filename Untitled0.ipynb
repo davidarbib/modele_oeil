{
 "metadata": {
  "name": "",
  "signature": "sha256:eb57a4dae3f429753f5bee4cb2f29b3803533d1839f571ce8f0d95730c24cc6a"
 },
 "nbformat": 3,
 "nbformat_minor": 0,
 "worksheets": [
  {
   "cells": [
    {
     "cell_type": "heading",
     "level": 1,
     "metadata": {},
     "source": [
      "Librairies et classes"
     ]
    },
    {
     "cell_type": "code",
     "collapsed": false,
     "input": [
      "%pylab inline\n",
      "%load_ext autoreload\n",
      "%autoreload\n",
      "from Environnement import *\n",
      "from v_f_global import *\n",
      "from nengo import *"
     ],
     "language": "python",
     "metadata": {},
     "outputs": [
      {
       "output_type": "stream",
       "stream": "stdout",
       "text": [
        "Populating the interactive namespace from numpy and matplotlib\n",
        "The autoreload extension is already loaded. To reload it, use:\n",
        "  %reload_ext autoreload\n",
        "test\n"
       ]
      },
      {
       "output_type": "stream",
       "stream": "stderr",
       "text": [
        "WARNING: pylab import has clobbered these variables: ['rk4', 'rc', 'add', 'log']\n",
        "`%matplotlib` prevents importing * from pylab and numpy\n"
       ]
      }
     ],
     "prompt_number": 67
    },
    {
     "cell_type": "heading",
     "level": 1,
     "metadata": {},
     "source": [
      "Param\u00e8tres $\\lambda$"
     ]
    },
    {
     "cell_type": "heading",
     "level": 1,
     "metadata": {},
     "source": [
      "Cr\u00e9ation du r\u00e9seau"
     ]
    },
    {
     "cell_type": "code",
     "collapsed": false,
     "input": [
      "modele = Network(label = 'Modele_oeil')"
     ],
     "language": "python",
     "metadata": {},
     "outputs": [],
     "prompt_number": 68
    },
    {
     "cell_type": "heading",
     "level": 2,
     "metadata": {},
     "source": [
      "Groupes de neurones"
     ]
    },
    {
     "cell_type": "code",
     "collapsed": false,
     "input": [
      "with modele:\n",
      "    THETA = Ensemble(N, dimensions=1)\n",
      "    PSI = Ensemble(N, dimensions=1)\n",
      "    U1 = Ensemble(N, dimensions=1)\n",
      "    U2 = Ensemble(N, dimensions=1)\n",
      "    postA = Ensemble(N, dimensions=1)\n",
      "    postB = Ensemble(N, dimensions=1)\n",
      "    postC = Ensemble(N, dimensions=1)\n",
      "    postD = Ensemble(N, dimensions=1)"
     ],
     "language": "python",
     "metadata": {},
     "outputs": [],
     "prompt_number": 69
    },
    {
     "cell_type": "heading",
     "level": 2,
     "metadata": {},
     "source": [
      "Interfaces du reseau"
     ]
    },
    {
     "cell_type": "code",
     "collapsed": false,
     "input": [
      "with modele:\n",
      "    cib = Cible(xS, yS, dt)\n",
      "    env = Environnement(xA, yA, dt, m, u1, u2, a, p_theta, v_theta)\n",
      "    \n",
      "    CIBLE = Node(cib.posCible, size_out = 2)  #Double entree\n",
      "    ENVIRONNEMENT = Node(env.step, size_in = 4, size_out = 2)  #4 entrees, 2 sorties"
     ],
     "language": "python",
     "metadata": {},
     "outputs": [],
     "prompt_number": 70
    },
    {
     "cell_type": "heading",
     "level": 2,
     "metadata": {},
     "source": [
      "Connectique"
     ]
    },
    {
     "cell_type": "code",
     "collapsed": false,
     "input": [
      "with modele:\n",
      "    Connection(ENVIRONNEMENT[0], PSI)\n",
      "    Connection(ENVIRONNEMENT[1], THETA)\n",
      "  \n",
      "    Connection(PSI, postC, function=C)\n",
      "    Connection(PSI, postD, function=D)\n",
      "    Connection(THETA, postA, function=A)\n",
      "    Connection(THETA, postB, function=B)\n",
      "  \n",
      "    Connection(postA, U1)\n",
      "    Connection(postC, U1)\n",
      "    Connection(postB, U2)\n",
      "    Connection(postD, U2)\n",
      "  \n",
      "    Connection(U1, ENVIRONNEMENT[0])\n",
      "    Connection(U2, ENVIRONNEMENT[1])\n",
      "  \n",
      "    Connection(CIBLE[0], ENVIRONNEMENT[2])\n",
      "    Connection(CIBLE[1], ENVIRONNEMENT[3])"
     ],
     "language": "python",
     "metadata": {},
     "outputs": [],
     "prompt_number": 71
    },
    {
     "cell_type": "heading",
     "level": 2,
     "metadata": {},
     "source": [
      "Sondes"
     ]
    },
    {
     "cell_type": "code",
     "collapsed": false,
     "input": [
      "with modele:\n",
      "    test_probe = Probe(postA)\n",
      "    test_probe1 = Probe(postC)\n",
      "    test_probe2 = Probe(U1)\n",
      "    #monitoring de theta"
     ],
     "language": "python",
     "metadata": {},
     "outputs": [],
     "prompt_number": 72
    },
    {
     "cell_type": "heading",
     "level": 1,
     "metadata": {},
     "source": [
      "Lancement"
     ]
    },
    {
     "cell_type": "code",
     "collapsed": false,
     "input": [
      "sim = Simulator(modele, dt)\n",
      "sim.run(duree_sim)"
     ],
     "language": "python",
     "metadata": {},
     "outputs": [],
     "prompt_number": 73
    },
    {
     "cell_type": "heading",
     "level": 1,
     "metadata": {},
     "source": [
      "Affichage"
     ]
    },
    {
     "cell_type": "code",
     "collapsed": false,
     "input": [
      "plot(sim.trange(), sim.data[test_probe])\n",
      "plot(sim.trange(), sim.data[test_probe1])\n",
      "plot(sim.trange(), sim.data[test_probe2])\n",
      "#ylim(-np.pi, np.pi)\n",
      "ylim(-1, 1)\n",
      "xlabel('temps (s.)')\n",
      "ylabel('angle (rad.)')\n",
      "show()"
     ],
     "language": "python",
     "metadata": {},
     "outputs": [
      {
       "metadata": {},
       "output_type": "display_data",
       "png": "[encoded data removed]",
       "text": [
        "<matplotlib.figure.Figure at 0x9ac712c>"
       ]
      }
     ],
     "prompt_number": 74
    },
    {
     "cell_type": "code",
     "collapsed": false,
     "input": [],
     "language": "python",
     "metadata": {},
     "outputs": [],
     "prompt_number": 74
    }
   ],
   "metadata": {}
  }
 ]
}