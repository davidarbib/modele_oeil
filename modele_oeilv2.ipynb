{
 "metadata": {
  "name": "",
  "signature": "sha256:8ac319ba4039edd6a16da3fec66bb39ef4e9f1491fc2e91e9194b8af3ff2e87c"
 },
 "nbformat": 3,
 "nbformat_minor": 0,
 "worksheets": [
  {
   "cells": [
    {
     "cell_type": "heading",
     "level": 1,
     "metadata": {},
     "source": [
      "Librairies et classes"
     ]
    },
    {
     "cell_type": "code",
     "collapsed": false,
     "input": [
      "%pylab inline\n",
      "%load_ext autoreload\n",
      "%autoreload\n",
      "from Environnement import *\n",
      "from v_f_global import *\n",
      "from nengo import *"
     ],
     "language": "python",
     "metadata": {},
     "outputs": [
      {
       "output_type": "stream",
       "stream": "stdout",
       "text": [
        "Populating the interactive namespace from numpy and matplotlib\n",
        "The autoreload extension is already loaded. To reload it, use:\n",
        "  %reload_ext autoreload\n"
       ]
      },
      {
       "output_type": "stream",
       "stream": "stderr",
       "text": [
        "WARNING: pylab import has clobbered these variables: ['rk4', 'rc', 'add', 'log']\n",
        "`%matplotlib` prevents importing * from pylab and numpy\n"
       ]
      }
     ],
     "prompt_number": 27
    },
    {
     "cell_type": "heading",
     "level": 1,
     "metadata": {},
     "source": [
      "Param\u00e8tres $\\lambda$"
     ]
    },
    {
     "cell_type": "code",
     "collapsed": false,
     "input": [
      "xS = -5\n",
      "yS = 0"
     ],
     "language": "python",
     "metadata": {},
     "outputs": [],
     "prompt_number": 28
    },
    {
     "cell_type": "heading",
     "level": 1,
     "metadata": {},
     "source": [
      "Cr\u00e9ation du r\u00e9seau"
     ]
    },
    {
     "cell_type": "code",
     "collapsed": false,
     "input": [
      "modele = Network(label = 'Modele_oeil')"
     ],
     "language": "python",
     "metadata": {},
     "outputs": [],
     "prompt_number": 29
    },
    {
     "cell_type": "heading",
     "level": 2,
     "metadata": {},
     "source": [
      "Groupes de neurones"
     ]
    },
    {
     "cell_type": "code",
     "collapsed": false,
     "input": [
      "with modele:\n",
      "    UN = Ensemble(N, dimensions=1)\n",
      "    \n",
      "    U1 = Ensemble(N, dimensions=1)\n",
      "    U2 = Ensemble(N, dimensions=1)"
     ],
     "language": "python",
     "metadata": {},
     "outputs": [],
     "prompt_number": 30
    },
    {
     "cell_type": "heading",
     "level": 2,
     "metadata": {},
     "source": [
      "Interfaces du reseau"
     ]
    },
    {
     "cell_type": "code",
     "collapsed": false,
     "input": [
      "with modele:\n",
      "    cib = Cible(xS, yS, dt)\n",
      "    env = Environnement(xA, yA, dt, m, u1, u2, a, p_theta, v_theta)\n",
      "    \n",
      "    \n",
      "    CIBLE = Node(cib.posCible, size_out = 2)  #Double entree\n",
      "    ENVIRONNEMENT = Node(env.step, size_in = 4, size_out = 1)  #4 entrees, 1 sortie\n",
      "    UN_CONSTANT = Node(output=1/skl)"
     ],
     "language": "python",
     "metadata": {},
     "outputs": [],
     "prompt_number": 31
    },
    {
     "cell_type": "heading",
     "level": 2,
     "metadata": {},
     "source": [
      "Connectique"
     ]
    },
    {
     "cell_type": "code",
     "collapsed": false,
     "input": [
      "with modele:\n",
      "    Connection(UN_CONSTANT, UN)\n",
      "    \n",
      "    Connection(ENVIRONNEMENT, U1, function=Aprime)\n",
      "    Connection(ENVIRONNEMENT, U2, function=Bprime)\n",
      "    \n",
      "    Connection(UN, U1, function=Y)\n",
      "    Connection(UN, U2, function=Z)\n",
      "   \n",
      "    Connection(U1, ENVIRONNEMENT[0])\n",
      "    Connection(U2, ENVIRONNEMENT[1])\n",
      "  \n",
      "    Connection(CIBLE[0], ENVIRONNEMENT[2])\n",
      "    Connection(CIBLE[1], ENVIRONNEMENT[3])"
     ],
     "language": "python",
     "metadata": {},
     "outputs": [],
     "prompt_number": 32
    },
    {
     "cell_type": "heading",
     "level": 2,
     "metadata": {},
     "source": [
      "Sondes"
     ]
    },
    {
     "cell_type": "code",
     "collapsed": false,
     "input": [
      "with modele:\n",
      "    test_probe = Probe(U1, synapse=0.03)\n",
      "    test_probe1 = Probe(U2, synapse=0.03)\n",
      "    #monitoring de theta"
     ],
     "language": "python",
     "metadata": {},
     "outputs": [],
     "prompt_number": 33
    },
    {
     "cell_type": "heading",
     "level": 1,
     "metadata": {},
     "source": [
      "Lancement"
     ]
    },
    {
     "cell_type": "code",
     "collapsed": false,
     "input": [
      "sim = Simulator(modele, dt)\n",
      "sim.run(duree_sim)"
     ],
     "language": "python",
     "metadata": {},
     "outputs": [],
     "prompt_number": 34
    },
    {
     "cell_type": "heading",
     "level": 1,
     "metadata": {},
     "source": [
      "Affichage"
     ]
    },
    {
     "cell_type": "code",
     "collapsed": false,
     "input": [
      "data1=list(sim.data[test_probe])\n",
      "data2=list(sim.data[test_probe1])\n",
      "\n",
      "time = linspace(0, duree_sim, nb_pts-1)\n",
      "\n",
      "plot(time, env.tab_psi, label='psi')\n",
      "plot(time, env.tab_theta, label='theta')\n",
      "ylim(-np.pi, np.pi)\n",
      "#ylim(-1, 1)\n",
      "xlabel('temps (s.)')\n",
      "ylabel('angle (rad.)')\n",
      "legend()\n",
      "show()"
     ],
     "language": "python",
     "metadata": {},
     "outputs": [
      {
       "metadata": {},
       "output_type": "display_data",
       "png": "[encoded data removed]",
       "text": [
        "<matplotlib.figure.Figure at 0xaa87eec>"
       ]
      }
     ],
     "prompt_number": 35
    },
    {
     "cell_type": "code",
     "collapsed": false,
     "input": [],
     "language": "python",
     "metadata": {},
     "outputs": [],
     "prompt_number": 35
    },
    {
     "cell_type": "code",
     "collapsed": false,
     "input": [],
     "language": "python",
     "metadata": {},
     "outputs": [],
     "prompt_number": 35
    },
    {
     "cell_type": "code",
     "collapsed": false,
     "input": [],
     "language": "python",
     "metadata": {},
     "outputs": [],
     "prompt_number": 35
    }
   ],
   "metadata": {}
  }
 ]
}