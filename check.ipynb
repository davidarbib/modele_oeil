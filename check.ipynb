{
 "metadata": {
  "name": "",
  "signature": "sha256:bd38fc22796882ece61f70c9382aa7600a333e69bd4a8bdf339318c0401f03fe"
 },
 "nbformat": 3,
 "nbformat_minor": 0,
 "worksheets": [
  {
   "cells": [
    {
     "cell_type": "code",
     "collapsed": false,
     "input": [
      "from nengo import *"
     ],
     "language": "python",
     "metadata": {},
     "outputs": [],
     "prompt_number": 21
    },
    {
     "cell_type": "code",
     "collapsed": false,
     "input": [
      "%pylab inline"
     ],
     "language": "python",
     "metadata": {},
     "outputs": [
      {
       "output_type": "stream",
       "stream": "stdout",
       "text": [
        "Populating the interactive namespace from numpy and matplotlib\n"
       ]
      },
      {
       "output_type": "stream",
       "stream": "stderr",
       "text": [
        "WARNING: pylab import has clobbered these variables: ['rc', 'log']\n",
        "`%matplotlib` prevents importing * from pylab and numpy\n"
       ]
      }
     ],
     "prompt_number": 22
    },
    {
     "cell_type": "code",
     "collapsed": false,
     "input": [
      "def transfo(t, x):\n",
      "    aprime = x[0]*2\n",
      "    bprime = x[1]*2\n",
      "    \n",
      "    return [aprime, bprime]"
     ],
     "language": "python",
     "metadata": {},
     "outputs": [],
     "prompt_number": 23
    },
    {
     "cell_type": "code",
     "collapsed": false,
     "input": [
      "net = Network('Net')\n",
      "N = 100\n",
      "dt = 0.1"
     ],
     "language": "python",
     "metadata": {},
     "outputs": [],
     "prompt_number": 24
    },
    {
     "cell_type": "code",
     "collapsed": false,
     "input": [
      "with net:\n",
      "    A = Ensemble(N, dimensions=1)\n",
      "    B = Ensemble(N, dimensions=1)\n",
      "    Aprime = Ensemble(N, dimensions=1)\n",
      "    Bprime = Ensemble(N, dimensions=1)"
     ],
     "language": "python",
     "metadata": {},
     "outputs": [],
     "prompt_number": 25
    },
    {
     "cell_type": "code",
     "collapsed": false,
     "input": [
      "with net:\n",
      "    inter = Node(transfo, size_in=2, size_out=2)\n",
      "    inA = Node(output=0.5)\n",
      "    inB = Node(output=-0.5)"
     ],
     "language": "python",
     "metadata": {},
     "outputs": [],
     "prompt_number": 26
    },
    {
     "cell_type": "code",
     "collapsed": false,
     "input": [
      "with net:\n",
      "    Connection(inA, A)\n",
      "    Connection(inB, B)\n",
      "    \n",
      "    Connection(A, inter[0])\n",
      "    Connection(B, inter[1])\n",
      "    \n",
      "    Connection(inter[0], Aprime)\n",
      "    Connection(inter[1], Bprime)"
     ],
     "language": "python",
     "metadata": {},
     "outputs": [],
     "prompt_number": 27
    },
    {
     "cell_type": "code",
     "collapsed": false,
     "input": [
      "with net:\n",
      "    probe_a = Probe(A, synapse=0.1)\n",
      "    probe_b = Probe(B, synapse=0.1)\n",
      "    probe_aprime = Probe(Aprime, synapse=0.1)\n",
      "    probe_bprime = Probe(Bprime, synapse=0.1)"
     ],
     "language": "python",
     "metadata": {},
     "outputs": [],
     "prompt_number": 28
    },
    {
     "cell_type": "code",
     "collapsed": false,
     "input": [
      "sim = Simulator(net)\n",
      "sim.run(2)"
     ],
     "language": "python",
     "metadata": {},
     "outputs": [],
     "prompt_number": 29
    },
    {
     "cell_type": "code",
     "collapsed": false,
     "input": [
      "plot(sim.trange(), sim.data[probe_b])\n",
      "plot(sim.trange(), sim.data[probe_bprime])\n",
      "show()"
     ],
     "language": "python",
     "metadata": {},
     "outputs": [
      {
       "metadata": {},
       "output_type": "display_data",
       "png": "[encoded data removed]",
       "text": [
        "<matplotlib.figure.Figure at 0xa2e494c>"
       ]
      }
     ],
     "prompt_number": 30
    },
    {
     "cell_type": "code",
     "collapsed": false,
     "input": [],
     "language": "python",
     "metadata": {},
     "outputs": [],
     "prompt_number": 30
    },
    {
     "cell_type": "code",
     "collapsed": false,
     "input": [],
     "language": "python",
     "metadata": {},
     "outputs": [],
     "prompt_number": 30
    },
    {
     "cell_type": "code",
     "collapsed": false,
     "input": [],
     "language": "python",
     "metadata": {},
     "outputs": [],
     "prompt_number": 30
    }
   ],
   "metadata": {}
  }
 ]
}