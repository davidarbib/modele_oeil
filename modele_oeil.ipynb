{
 "metadata": {
  "name": "",
  "signature": "sha256:c0fe8528b18a15261c4a057e0d7839979fc620a066a064879f00b58ad4d8361a"
 },
 "nbformat": 3,
 "nbformat_minor": 0,
 "worksheets": [
  {
   "cells": [
    {
     "cell_type": "heading",
     "level": 1,
     "metadata": {},
     "source": [
      "Librairies et classes"
     ]
    },
    {
     "cell_type": "code",
     "collapsed": false,
     "input": [
      "%pylab inline\n",
      "%load_ext autoreload\n",
      "%autoreload\n",
      "from Environnement import *\n",
      "from v_f_global import *\n",
      "from nengo import *\n",
      "from nengo.utils.matplotlib import rasterplot\n",
      "from nengo.utils.ensemble import tuning_curves\n",
      "from nengo.dists import *"
     ],
     "language": "python",
     "metadata": {},
     "outputs": [
      {
       "output_type": "stream",
       "stream": "stdout",
       "text": [
        "Populating the interactive namespace from numpy and matplotlib\n",
        "The autoreload extension is already loaded. To reload it, use:\n",
        "  %reload_ext autoreload\n"
       ]
      },
      {
       "output_type": "stream",
       "stream": "stderr",
       "text": [
        "WARNING: pylab import has clobbered these variables: ['rk4', 'rc', 'add', 'log']\n",
        "`%matplotlib` prevents importing * from pylab and numpy\n"
       ]
      }
     ],
     "prompt_number": 118
    },
    {
     "cell_type": "heading",
     "level": 1,
     "metadata": {},
     "source": [
      "Param\u00e8tres $\\lambda$"
     ]
    },
    {
     "cell_type": "code",
     "collapsed": false,
     "input": [
      "xS = -3\n",
      "yS = 3"
     ],
     "language": "python",
     "metadata": {},
     "outputs": [],
     "prompt_number": 119
    },
    {
     "cell_type": "heading",
     "level": 1,
     "metadata": {},
     "source": [
      "Cr\u00e9ation du r\u00e9seau"
     ]
    },
    {
     "cell_type": "code",
     "collapsed": false,
     "input": [
      "modele = Network(label = 'Modele_oeil')"
     ],
     "language": "python",
     "metadata": {},
     "outputs": [],
     "prompt_number": 120
    },
    {
     "cell_type": "heading",
     "level": 2,
     "metadata": {},
     "source": [
      "Groupes de neurones"
     ]
    },
    {
     "cell_type": "code",
     "collapsed": false,
     "input": [
      "with modele:\n",
      "    UN = Ensemble(N, dimensions=1)\n",
      "    PSI = Ensemble(N, dimensions=1)\n",
      "    THETA = Ensemble(N, dimensions=1)\n",
      "    \n",
      "    U1 = Ensemble(N, dimensions=1)\n",
      "    U2 = Ensemble(N, dimensions=1)"
     ],
     "language": "python",
     "metadata": {},
     "outputs": [],
     "prompt_number": 121
    },
    {
     "cell_type": "heading",
     "level": 2,
     "metadata": {},
     "source": [
      "Interfaces du reseau"
     ]
    },
    {
     "cell_type": "code",
     "collapsed": false,
     "input": [
      "with modele:\n",
      "    cib = Cible(xS, yS, dt)\n",
      "    env = Environnement(xA, yA, dt, m, u1, u2, a, p_theta, v_theta)\n",
      "    \n",
      "    \n",
      "    CIBLE = Node(cib.posCible, size_out = 2)  #Double entree\n",
      "    ENVIRONNEMENT = Node(env.step, size_in = 4, size_out = 2)  #4 entrees, 2 sorties\n",
      "    UN_CONSTANT = Node(output=1/skl)"
     ],
     "language": "python",
     "metadata": {},
     "outputs": [],
     "prompt_number": 122
    },
    {
     "cell_type": "heading",
     "level": 2,
     "metadata": {},
     "source": [
      "Connectique"
     ]
    },
    {
     "cell_type": "code",
     "collapsed": false,
     "input": [
      "with modele:\n",
      "    Connection(UN_CONSTANT, UN)\n",
      "    \n",
      "    Connection(ENVIRONNEMENT[0], PSI)\n",
      "    Connection(ENVIRONNEMENT[1], THETA)\n",
      "    \n",
      "    Connection(THETA, U1, function=A)\n",
      "    Connection(THETA, U2, function=B)\n",
      "    Connection(PSI, U1, function=C)\n",
      "    Connection(PSI, U2, function=D)\n",
      "    Connection(UN, U1, function=Y)\n",
      "    Connection(UN, U2, function=Z)\n",
      "   \n",
      "    Connection(U1, ENVIRONNEMENT[0])\n",
      "    Connection(U2, ENVIRONNEMENT[1])\n",
      "  \n",
      "    Connection(CIBLE[0], ENVIRONNEMENT[2])\n",
      "    Connection(CIBLE[1], ENVIRONNEMENT[3])"
     ],
     "language": "python",
     "metadata": {},
     "outputs": [],
     "prompt_number": 123
    },
    {
     "cell_type": "heading",
     "level": 2,
     "metadata": {},
     "source": [
      "Sondes"
     ]
    },
    {
     "cell_type": "code",
     "collapsed": false,
     "input": [
      "with modele:\n",
      "    test_probe = Probe(PSI, synapse = 0.01)\n",
      "    test_probe1 = Probe(THETA, synapse = 0.01)\n",
      "    \n",
      "    raster = Probe(THETA.neurons)\n",
      "\n",
      "    #print THETA.neurons.probeable"
     ],
     "language": "python",
     "metadata": {},
     "outputs": [],
     "prompt_number": 124
    },
    {
     "cell_type": "heading",
     "level": 1,
     "metadata": {},
     "source": [
      "Lancement"
     ]
    },
    {
     "cell_type": "code",
     "collapsed": false,
     "input": [
      "sim = Simulator(modele, dt)\n",
      "sim.run(duree_sim)"
     ],
     "language": "python",
     "metadata": {},
     "outputs": [],
     "prompt_number": 125
    },
    {
     "cell_type": "heading",
     "level": 1,
     "metadata": {},
     "source": [
      "Affichage"
     ]
    },
    {
     "cell_type": "code",
     "collapsed": false,
     "input": [
      "data1=list(sim.data[test_probe])\n",
      "data2=list(sim.data[test_probe1])\n",
      "\n",
      "time = linspace(0, duree_sim, nb_pts)\n",
      "\n",
      "#---vitesse max---\n",
      "print \"vitesse : \", max(env.tab_vtheta)\n",
      "\n",
      "#---precision---\n",
      "i = matrixIndex(env.tab_sum, 0, 1.0)   #ligne de la matrice desiree\n",
      "precis = 100*(env.tab_sum[i][2]/env.tab_sum[i][1])\n",
      "if precis <= 100 :\n",
      "    print \"precision : \", precis\n",
      "else :\n",
      "    print \"precision : \", 100*(env.tab_sum[i][1]/env.tab_sum[i][2])\n",
      "\n",
      "#---graphiques---    \n",
      "figure(figsize=(10,5))\n",
      "'''\n",
      "plot(time, env.tab_vtheta)\n",
      "xlabel('temps (s.)')\n",
      "ylabel('vitesse (rad/s)')\n",
      "'''\n",
      "'''\n",
      "plot(sim.trange(), multlist(data1, skl), label='psi')\n",
      "plot(sim.trange(), multlist(data2, skl), label='theta')\n",
      "\n",
      "'''\n",
      "\n",
      "rasterplot(sim.trange(), sim.data[raster])\n",
      "ylim(0, 20)\n",
      "xlabel('temps (s.)')\n",
      "\n",
      "'''\n",
      "ylim(-np.pi, np.pi)\n",
      "xlabel('temps (s.)')\n",
      "ylabel('angle (rad.)')\n",
      "legend()\n",
      "'''\n",
      "show()"
     ],
     "language": "python",
     "metadata": {},
     "outputs": [
      {
       "output_type": "stream",
       "stream": "stdout",
       "text": [
        "vitesse :  4.41123173275\n",
        "precision :  98.2803257517\n"
       ]
      },
      {
       "metadata": {},
       "output_type": "display_data",
       "png": "[encoded data removed]",
       "text": [
        "<matplotlib.figure.Figure at 0xc460a8c>"
       ]
      }
     ],
     "prompt_number": 126
    },
    {
     "cell_type": "code",
     "collapsed": false,
     "input": [],
     "language": "python",
     "metadata": {},
     "outputs": [],
     "prompt_number": 126
    },
    {
     "cell_type": "code",
     "collapsed": false,
     "input": [],
     "language": "python",
     "metadata": {},
     "outputs": [],
     "prompt_number": 126
    },
    {
     "cell_type": "code",
     "collapsed": false,
     "input": [],
     "language": "python",
     "metadata": {},
     "outputs": [],
     "prompt_number": 126
    }
   ],
   "metadata": {}
  }
 ]
}