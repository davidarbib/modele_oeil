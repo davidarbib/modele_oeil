{
 "metadata": {
  "name": "",
  "signature": "sha256:6509a919fa57f5475dae28e77ac95561be01fbb9959a5067bf1ea40b73c0bd6d"
 },
 "nbformat": 3,
 "nbformat_minor": 0,
 "worksheets": [
  {
   "cells": [
    {
     "cell_type": "heading",
     "level": 1,
     "metadata": {},
     "source": [
      "Librairies et classes"
     ]
    },
    {
     "cell_type": "code",
     "collapsed": false,
     "input": [
      "%pylab inline\n",
      "%load_ext autoreload\n",
      "%autoreload\n",
      "from Environnement import *\n",
      "from v_f_global import *\n",
      "from nengo import *\n",
      "from nengo.utils.matplotlib import rasterplot\n",
      "from nengo.utils.ensemble import tuning_curves\n",
      "from nengo.utils.ensemble import sorted_neurons\n",
      "from nengo.dists import *"
     ],
     "language": "python",
     "metadata": {},
     "outputs": [
      {
       "output_type": "stream",
       "stream": "stdout",
       "text": [
        "Populating the interactive namespace from numpy and matplotlib\n"
       ]
      },
      {
       "javascript": [
        "\n",
        "        require([\"widgets/js/widget\", \"widgets/js/manager\"],\n",
        "            function(widget, manager) {\n",
        "          if (typeof widget.DOMWidgetView == 'undefined') {\n",
        "            widget = IPython;\n",
        "          }\n",
        "          if (typeof manager.WidgetManager == 'undefined') {\n",
        "            manager = IPython;\n",
        "          }\n",
        "\n",
        "          var NengoProgressBar = widget.DOMWidgetView.extend({\n",
        "            render: function() {\n",
        "              // $el is the DOM of the widget\n",
        "              this.$el.css({width: '100%', marginBottom: '0.5em'});\n",
        "              this.$el.html([\n",
        "                '<div style=\"',\n",
        "                    'width: 100%;',\n",
        "                    'border: 1px solid #cfcfcf;',\n",
        "                    'border-radius: 4px;',\n",
        "                    'text-align: center;',\n",
        "                    'position: relative;\">',\n",
        "                  '<div class=\"pb-text\" style=\"',\n",
        "                      'position: absolute;',\n",
        "                      'width: 100%;\">',\n",
        "                    '0%',\n",
        "                  '</div>',\n",
        "                  '<div class=\"pb-bar\" style=\"',\n",
        "                      'background-color: #bdd2e6;',\n",
        "                      'width: 0%;',\n",
        "                      'transition: width 0.1s linear;\">',\n",
        "                    '&nbsp;',\n",
        "                  '</div>',\n",
        "                '</div>'].join(''));\n",
        "            },\n",
        "\n",
        "            update: function() {\n",
        "              this.$el.css({width: '100%', marginBottom: '0.5em'});\n",
        "              var progress = 100 * this.model.get('progress');\n",
        "              var text = this.model.get('text');\n",
        "              this.$el.find('div.pb-bar').width(progress.toString() + '%');\n",
        "              this.$el.find('div.pb-text').text(text);\n",
        "            },\n",
        "          });\n",
        "\n",
        "          manager.WidgetManager.register_widget_view(\n",
        "            'NengoProgressBar', NengoProgressBar);\n",
        "        });"
       ],
       "metadata": {},
       "output_type": "display_data",
       "text": [
        "<IPython.core.display.Javascript at 0xabbe122c>"
       ]
      }
     ],
     "prompt_number": 1
    },
    {
     "cell_type": "heading",
     "level": 1,
     "metadata": {},
     "source": [
      "Param\u00e8tres $\\lambda$"
     ]
    },
    {
     "cell_type": "code",
     "collapsed": false,
     "input": [
      "#Reconfiguration possible des parametres (par defaut dans v_f_global.py)\n",
      "xS = -3\n",
      "yS = 3"
     ],
     "language": "python",
     "metadata": {},
     "outputs": [],
     "prompt_number": 2
    },
    {
     "cell_type": "heading",
     "level": 1,
     "metadata": {},
     "source": [
      "Cr\u00e9ation du r\u00e9seau"
     ]
    },
    {
     "cell_type": "code",
     "collapsed": false,
     "input": [
      "modele = Network(label = 'Modele_oeil')"
     ],
     "language": "python",
     "metadata": {},
     "outputs": [],
     "prompt_number": 3
    },
    {
     "cell_type": "heading",
     "level": 2,
     "metadata": {},
     "source": [
      "Groupes de neurones"
     ]
    },
    {
     "cell_type": "code",
     "collapsed": false,
     "input": [
      "with modele:\n",
      "    \n",
      "    #Sensoriel\n",
      "    UN = Ensemble(N, dimensions=1)\n",
      "    PSI = Ensemble(N, dimensions=1)\n",
      "    THETA = Ensemble(N, dimensions=1)\n",
      "    \n",
      "    #Moteur\n",
      "    U1 = Ensemble(N, dimensions=1)\n",
      "    U2 = Ensemble(N, dimensions=1)"
     ],
     "language": "python",
     "metadata": {},
     "outputs": [],
     "prompt_number": 4
    },
    {
     "cell_type": "heading",
     "level": 2,
     "metadata": {},
     "source": [
      "Interfaces du reseau"
     ]
    },
    {
     "cell_type": "code",
     "collapsed": false,
     "input": [
      "with modele:\n",
      "    cib = Cible(xS, yS, dt)\n",
      "    env = Environnement(xA, yA, dt, m, u1, u2, a, p_theta, v_theta)\n",
      "    \n",
      "    \n",
      "    CIBLE = Node(cib.posCible, size_out = 2)  #Double entree\n",
      "    ENVIRONNEMENT = Node(env.step, size_in = 4, size_out = 2)  #4 entrees, 2 sorties\n",
      "    UN_CONSTANT = Node(output=1/skl)"
     ],
     "language": "python",
     "metadata": {},
     "outputs": [],
     "prompt_number": 5
    },
    {
     "cell_type": "heading",
     "level": 2,
     "metadata": {},
     "source": [
      "Connectique"
     ]
    },
    {
     "cell_type": "code",
     "collapsed": false,
     "input": [
      "with modele:\n",
      "    #(cuisine)\n",
      "    Connection(UN_CONSTANT, UN)\n",
      "    \n",
      "    #Inputs\n",
      "    Connection(ENVIRONNEMENT[0], PSI)\n",
      "    Connection(ENVIRONNEMENT[1], THETA)\n",
      "    \n",
      "    #Connexions entre sensoriel et moteur\n",
      "    Connection(THETA, U1, function=A)\n",
      "    Connection(THETA, U2, function=B)\n",
      "    Connection(PSI, U1, function=C)\n",
      "    Connection(PSI, U2, function=D)\n",
      "    Connection(UN, U1, function=Y)\n",
      "    Connection(UN, U2, function=Z)\n",
      "    \n",
      "    #Motoneurones\n",
      "    Connection(U1, ENVIRONNEMENT[0])\n",
      "    Connection(U2, ENVIRONNEMENT[1])\n",
      "    \n",
      "    #(cuisine)\n",
      "    Connection(CIBLE[0], ENVIRONNEMENT[2])\n",
      "    Connection(CIBLE[1], ENVIRONNEMENT[3])"
     ],
     "language": "python",
     "metadata": {},
     "outputs": [],
     "prompt_number": 6
    },
    {
     "cell_type": "heading",
     "level": 2,
     "metadata": {},
     "source": [
      "Sondes"
     ]
    },
    {
     "cell_type": "code",
     "collapsed": false,
     "input": [
      "with modele:\n",
      "    test_probe = Probe(PSI, synapse = 0.01)\n",
      "    test_probe1 = Probe(THETA, synapse = 0.01)\n",
      "    \n",
      "    raster = Probe(THETA.neurons)"
     ],
     "language": "python",
     "metadata": {},
     "outputs": [],
     "prompt_number": 7
    },
    {
     "cell_type": "heading",
     "level": 1,
     "metadata": {},
     "source": [
      "Lancement"
     ]
    },
    {
     "cell_type": "code",
     "collapsed": false,
     "input": [
      "sim = Simulator(modele, dt)\n",
      "sim.run(duree_sim)"
     ],
     "language": "python",
     "metadata": {},
     "outputs": [],
     "prompt_number": 8
    },
    {
     "cell_type": "heading",
     "level": 1,
     "metadata": {},
     "source": [
      "Affichage"
     ]
    },
    {
     "cell_type": "code",
     "collapsed": false,
     "input": [
      "data1=list(sim.data[test_probe])\n",
      "data2=list(sim.data[test_probe1])\n",
      "\n",
      "time = linspace(0, duree_sim, nb_pts)\n",
      "\n",
      "#---Vitesse max---\n",
      "print \"vitesse : \", max(env.tab_vtheta)\n",
      "\n",
      "#---Precision---\n",
      "i = matrixIndex(env.tab_sum, 0, 1.0)   #ligne de la matrice desiree\n",
      "precis = 100*(env.tab_sum[i][2]/env.tab_sum[i][1])\n",
      "if precis <= 100 :\n",
      "    print \"precision : \", precis\n",
      "else :\n",
      "    print \"precision : \", 100*(env.tab_sum[i][1]/env.tab_sum[i][2])\n",
      "\n",
      "#---Graphiques---(uncomment un bloc a la fois)    \n",
      "figure(figsize=(10,5))\n",
      "\n",
      "#Profil de vitesse\n",
      "'''\n",
      "plot(time, env.tab_vtheta)\n",
      "xlabel('temps (s.)')\n",
      "ylabel('vitesse (rad/s)')\n",
      "'''\n",
      "\n",
      "\n",
      "#Proprioception et vision\n",
      "plot(sim.trange(), multlist(data1, skl), label='psi')\n",
      "plot(sim.trange(), multlist(data2, skl), label='theta')\n",
      "ylim(-np.pi, np.pi)\n",
      "xlabel('temps (s.)')\n",
      "ylabel('angle (rad.)')\n",
      "legend()\n",
      "\n",
      "\n",
      "#Rasterplot\n",
      "'''\n",
      "indices = sorted_neurons(THETA, sim, iterations=250)\n",
      "rasterplot(sim.trange(), sim.data[raster][:, indices])\n",
      "ylim(0, 500)\n",
      "xlabel('temps (s.)')\n",
      "'''\n",
      "\n",
      "show()"
     ],
     "language": "python",
     "metadata": {},
     "outputs": [
      {
       "output_type": "stream",
       "stream": "stdout",
       "text": [
        "vitesse :  4.40666769124\n",
        "precision :  99.8185119991\n"
       ]
      },
      {
       "metadata": {},
       "output_type": "display_data",
       "png": "[encoded data removed]",
       "text": [
        "<matplotlib.figure.Figure at 0xabd623cc>"
       ]
      }
     ],
     "prompt_number": 9
    },
    {
     "cell_type": "code",
     "collapsed": false,
     "input": [],
     "language": "python",
     "metadata": {},
     "outputs": [],
     "prompt_number": 9
    },
    {
     "cell_type": "code",
     "collapsed": false,
     "input": [],
     "language": "python",
     "metadata": {},
     "outputs": [],
     "prompt_number": 9
    },
    {
     "cell_type": "code",
     "collapsed": false,
     "input": [],
     "language": "python",
     "metadata": {},
     "outputs": [],
     "prompt_number": 9
    }
   ],
   "metadata": {}
  }
 ]
}